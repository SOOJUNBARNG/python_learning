{
  "nbformat": 4,
  "nbformat_minor": 0,
  "metadata": {
    "colab": {
      "provenance": [],
      "authorship_tag": "ABX9TyM260GdeSUP/n5HVXx58tyJ",
      "include_colab_link": true
    },
    "kernelspec": {
      "name": "python3",
      "display_name": "Python 3"
    },
    "language_info": {
      "name": "python"
    }
  },
  "cells": [
    {
      "cell_type": "markdown",
      "metadata": {
        "id": "view-in-github",
        "colab_type": "text"
      },
      "source": [
        "<a href=\"https://colab.research.google.com/github/SOOJUNBARNG/python_learning/blob/main/pandas_8.ipynb\" target=\"_parent\"><img src=\"https://colab.research.google.com/assets/colab-badge.svg\" alt=\"Open In Colab\"/></a>"
      ]
    },
    {
      "cell_type": "code",
      "execution_count": 2,
      "metadata": {
        "colab": {
          "base_uri": "https://localhost:8080/"
        },
        "id": "T2PxvyNiys_a",
        "outputId": "9e78bb19-ad73-42d7-923e-8140586ccd8b"
      },
      "outputs": [
        {
          "output_type": "stream",
          "name": "stdout",
          "text": [
            "    患者ID     名前       施術名         施術日   担当医      費用\n",
            "0    201   佐々木優   二重まぶた手術  2024-03-01  田中医師  250000\n",
            "1    202    山本花   ボトックス注射  2024-03-05  鈴木医師   50000\n",
            "2    203   藤田健太    レーザー美白  2024-03-10  高橋医師  120000\n",
            "3    204   中村美咲       鼻整形  2024-03-15  山田医師  450000\n",
            "4    205    小林翔   フェイスリフト  2024-03-20  佐藤医師  600000\n",
            "5    206    小林翔  ヒアルロン酸注射  2024-03-22  田中医師   70000\n",
            "6    207    小林翔    リフトアップ  2024-03-25  鈴木医師  350000\n",
            "7    208   松本陽子  シミ取りレーザー  2024-03-28  高橋医師   90000\n",
            "8    209    斎藤誠       顎整形  2024-04-02  山田医師  520000\n",
            "9    210    高木彩  眉毛アートメイク  2024-04-05  佐藤医師   80000\n",
            "10   211   三浦健一      脂肪吸引  2024-04-08  田中医師  300000\n",
            "11   212  石井さくら  目の下のクマ取り  2024-04-12  鈴木医師  180000\n",
            "12   213   永井翔太      美白点滴  2024-04-15  高橋医師   45000\n",
            "13   214   菊池麻美      輪郭矯正  2024-04-18  山田医師  480000\n",
            "14   215    杉山徹  頭皮メソセラピー  2024-04-22  佐藤医師  110000\n"
          ]
        }
      ],
      "source": [
        "import requests\n",
        "\n",
        "import pandas as pd\n",
        "from io import StringIO\n",
        "import matplotlib.pyplot as plt\n",
        "\n",
        "# # Google Drive のファイル ID\n",
        "# file_id = \"17QN0mIXA9DP63KC5wL0h7koYKHSdUo9j\"\n",
        "\n",
        "# # ダウンロード用のURL\n",
        "# url = f\"https://drive.google.com/uc?export=download&id={file_id}\"\n",
        "\n",
        "# # Google Drive からデータを取得\n",
        "# response = requests.get(url)\n",
        "# response.raise_for_status()  # エラーチェック\n",
        "\n",
        "# # CSVデータを文字列として扱う\n",
        "# csv_data = StringIO(response.text)\n",
        "\n",
        "# Google SheetsのスプレッドシートID\n",
        "sheet_id = \"1-MEbYsbPJ9pRFKUlyOUuERe_HN4SzVqoByOqV0qaBzU\"\n",
        "sheet_name = \"Sheet1\"  # シート名を指定\n",
        "\n",
        "# Google Sheetsから直接CSVとして取得\n",
        "csv_url = f\"https://docs.google.com/spreadsheets/d/{sheet_id}/gviz/tq?tqx=out:csv&sheet={sheet_name}\"\n",
        "\n",
        "# Pandasで読み込む\n",
        "df = pd.read_csv(csv_url)\n",
        "\n",
        "print(df)"
      ]
    },
    {
      "cell_type": "code",
      "source": [
        "# 1. where()→ 条件に合致するものを残してNaNに変える\n",
        "df_filtered = df.where(df['費用'] >= 300000)\n",
        "print(df_filtered)"
      ],
      "metadata": {
        "colab": {
          "base_uri": "https://localhost:8080/"
        },
        "id": "HUCMAfD0zi3X",
        "outputId": "134ed462-4194-4f38-80ca-0263bc45d4e0"
      },
      "execution_count": 4,
      "outputs": [
        {
          "output_type": "stream",
          "name": "stdout",
          "text": [
            "     患者ID    名前      施術名         施術日   担当医        費用\n",
            "0     NaN   NaN      NaN         NaN   NaN       NaN\n",
            "1     NaN   NaN      NaN         NaN   NaN       NaN\n",
            "2     NaN   NaN      NaN         NaN   NaN       NaN\n",
            "3   204.0  中村美咲      鼻整形  2024-03-15  山田医師  450000.0\n",
            "4   205.0   小林翔  フェイスリフト  2024-03-20  佐藤医師  600000.0\n",
            "5     NaN   NaN      NaN         NaN   NaN       NaN\n",
            "6   207.0   小林翔   リフトアップ  2024-03-25  鈴木医師  350000.0\n",
            "7     NaN   NaN      NaN         NaN   NaN       NaN\n",
            "8   209.0   斎藤誠      顎整形  2024-04-02  山田医師  520000.0\n",
            "9     NaN   NaN      NaN         NaN   NaN       NaN\n",
            "10  211.0  三浦健一     脂肪吸引  2024-04-08  田中医師  300000.0\n",
            "11    NaN   NaN      NaN         NaN   NaN       NaN\n",
            "12    NaN   NaN      NaN         NaN   NaN       NaN\n",
            "13  214.0  菊池麻美     輪郭矯正  2024-04-18  山田医師  480000.0\n",
            "14    NaN   NaN      NaN         NaN   NaN       NaN\n"
          ]
        }
      ]
    },
    {
      "cell_type": "code",
      "source": [
        "# 2. mask()→ 条件に合致するものをNaNに変える\n",
        "df_masked = df.mask(df['費用'] >= 300000)\n",
        "print(df_masked)"
      ],
      "metadata": {
        "colab": {
          "base_uri": "https://localhost:8080/"
        },
        "id": "NAIb7Cxmzm-q",
        "outputId": "914af41a-99bf-49b5-dd6a-f98691d7ae81"
      },
      "execution_count": null,
      "outputs": [
        {
          "output_type": "stream",
          "name": "stdout",
          "text": [
            "   age  height  weight  salary\n",
            "0   25     160      55    3000\n",
            "1   30     170      65    4000\n",
            "2   35     175      70    5000\n",
            "3   40     180      80    6000\n",
            "4   45     185      85    7000\n",
            "\n",
            "------以下は相関係数-----\n",
            "\n",
            "             age    height    weight    salary\n",
            "age     1.000000  0.986394  0.993399  1.000000\n",
            "height  0.986394  1.000000  0.990771  0.986394\n",
            "weight  0.993399  0.990771  1.000000  0.993399\n",
            "salary  1.000000  0.986394  0.993399  1.000000\n"
          ]
        }
      ]
    },
    {
      "cell_type": "code",
      "source": [
        "# 3. merge() →  二つのdfを突合\n",
        "#追加データ\n",
        "data_extra = {\n",
        "    '患者ID': [201, 202, 203, 204, 205, 206, 207, 208, 209, 210, 211, 212, 213, 214, 215],\n",
        "    '性別': ['男性', '女性', '男性', '女性', '男性', '男性', '男性', '女性', '男性', '女性',\n",
        "           '男性', '女性', '男性', '女性', '男性']\n",
        "}\n",
        "df_extra = pd.DataFrame(data_extra)\n",
        "print(\"\\n新しいdf\\n\")\n",
        "print(df_extra)\n",
        "print(\"\\nmerge(患者IDでinner Join)\\n\")\n",
        "\n",
        "df_merged = df.merge(df_extra, on='患者ID', how='inner')\n",
        "print(df_merged)"
      ],
      "metadata": {
        "id": "8if0cmpb-gO9",
        "colab": {
          "base_uri": "https://localhost:8080/"
        },
        "outputId": "8a52d455-c9ad-46be-f42e-9853728cf80e"
      },
      "execution_count": 5,
      "outputs": [
        {
          "output_type": "stream",
          "name": "stdout",
          "text": [
            "\n",
            "新しいdf\n",
            "\n",
            "    患者ID  性別\n",
            "0    201  男性\n",
            "1    202  女性\n",
            "2    203  男性\n",
            "3    204  女性\n",
            "4    205  男性\n",
            "5    206  男性\n",
            "6    207  男性\n",
            "7    208  女性\n",
            "8    209  男性\n",
            "9    210  女性\n",
            "10   211  男性\n",
            "11   212  女性\n",
            "12   213  男性\n",
            "13   214  女性\n",
            "14   215  男性\n",
            "\n",
            "merge(患者IDでinner Join)\n",
            "\n",
            "    患者ID     名前       施術名         施術日   担当医      費用  性別\n",
            "0    201   佐々木優   二重まぶた手術  2024-03-01  田中医師  250000  男性\n",
            "1    202    山本花   ボトックス注射  2024-03-05  鈴木医師   50000  女性\n",
            "2    203   藤田健太    レーザー美白  2024-03-10  高橋医師  120000  男性\n",
            "3    204   中村美咲       鼻整形  2024-03-15  山田医師  450000  女性\n",
            "4    205    小林翔   フェイスリフト  2024-03-20  佐藤医師  600000  男性\n",
            "5    206    小林翔  ヒアルロン酸注射  2024-03-22  田中医師   70000  男性\n",
            "6    207    小林翔    リフトアップ  2024-03-25  鈴木医師  350000  男性\n",
            "7    208   松本陽子  シミ取りレーザー  2024-03-28  高橋医師   90000  女性\n",
            "8    209    斎藤誠       顎整形  2024-04-02  山田医師  520000  男性\n",
            "9    210    高木彩  眉毛アートメイク  2024-04-05  佐藤医師   80000  女性\n",
            "10   211   三浦健一      脂肪吸引  2024-04-08  田中医師  300000  男性\n",
            "11   212  石井さくら  目の下のクマ取り  2024-04-12  鈴木医師  180000  女性\n",
            "12   213   永井翔太      美白点滴  2024-04-15  高橋医師   45000  男性\n",
            "13   214   菊池麻美      輪郭矯正  2024-04-18  山田医師  480000  女性\n",
            "14   215    杉山徹  頭皮メソセラピー  2024-04-22  佐藤医師  110000  男性\n"
          ]
        }
      ]
    },
    {
      "cell_type": "code",
      "source": [
        "# 4. concat() →  データをつなぐ\n",
        "df_part1 = df.iloc[:5]  # 最初から5行抽出\n",
        "df_part2 = df.iloc[12:]  # 12行目以降のデータ\n",
        "\n",
        "# axis=0 で データを縦方向につなげる　横はaxis=1\n",
        "df_concat = pd.concat([df_part1, df_part2], axis=0)\n",
        "print(df_concat)"
      ],
      "metadata": {
        "colab": {
          "base_uri": "https://localhost:8080/"
        },
        "id": "T4YwF0xpBko7",
        "outputId": "55d91176-9da8-4dc8-b25b-03c153ced23f"
      },
      "execution_count": 6,
      "outputs": [
        {
          "output_type": "stream",
          "name": "stdout",
          "text": [
            "    患者ID    名前       施術名         施術日   担当医      費用\n",
            "0    201  佐々木優   二重まぶた手術  2024-03-01  田中医師  250000\n",
            "1    202   山本花   ボトックス注射  2024-03-05  鈴木医師   50000\n",
            "2    203  藤田健太    レーザー美白  2024-03-10  高橋医師  120000\n",
            "3    204  中村美咲       鼻整形  2024-03-15  山田医師  450000\n",
            "4    205   小林翔   フェイスリフト  2024-03-20  佐藤医師  600000\n",
            "12   213  永井翔太      美白点滴  2024-04-15  高橋医師   45000\n",
            "13   214  菊池麻美      輪郭矯正  2024-04-18  山田医師  480000\n",
            "14   215   杉山徹  頭皮メソセラピー  2024-04-22  佐藤医師  110000\n"
          ]
        }
      ]
    },
    {
      "cell_type": "code",
      "source": [
        "# 5. melt() →  複数の列を一つの列に変換\n",
        "# 施術名・担当医・費用の列を項目という列にまとめその値は値という列に入れる\n",
        "df_melted = df.melt(id_vars=['患者ID', '名前', '施術日'], value_vars=['施術名', '担当医', '費用'],\n",
        "                    var_name='項目', value_name='値')\n",
        "print(df_melted)"
      ],
      "metadata": {
        "colab": {
          "base_uri": "https://localhost:8080/"
        },
        "id": "A2cbU0wnBk_l",
        "outputId": "ed0accb1-92c4-4867-86d2-b76043cc1570"
      },
      "execution_count": 7,
      "outputs": [
        {
          "output_type": "stream",
          "name": "stdout",
          "text": [
            "    患者ID     名前         施術日   項目         値\n",
            "0    201   佐々木優  2024-03-01  施術名   二重まぶた手術\n",
            "1    202    山本花  2024-03-05  施術名   ボトックス注射\n",
            "2    203   藤田健太  2024-03-10  施術名    レーザー美白\n",
            "3    204   中村美咲  2024-03-15  施術名       鼻整形\n",
            "4    205    小林翔  2024-03-20  施術名   フェイスリフト\n",
            "5    206    小林翔  2024-03-22  施術名  ヒアルロン酸注射\n",
            "6    207    小林翔  2024-03-25  施術名    リフトアップ\n",
            "7    208   松本陽子  2024-03-28  施術名  シミ取りレーザー\n",
            "8    209    斎藤誠  2024-04-02  施術名       顎整形\n",
            "9    210    高木彩  2024-04-05  施術名  眉毛アートメイク\n",
            "10   211   三浦健一  2024-04-08  施術名      脂肪吸引\n",
            "11   212  石井さくら  2024-04-12  施術名  目の下のクマ取り\n",
            "12   213   永井翔太  2024-04-15  施術名      美白点滴\n",
            "13   214   菊池麻美  2024-04-18  施術名      輪郭矯正\n",
            "14   215    杉山徹  2024-04-22  施術名  頭皮メソセラピー\n",
            "15   201   佐々木優  2024-03-01  担当医      田中医師\n",
            "16   202    山本花  2024-03-05  担当医      鈴木医師\n",
            "17   203   藤田健太  2024-03-10  担当医      高橋医師\n",
            "18   204   中村美咲  2024-03-15  担当医      山田医師\n",
            "19   205    小林翔  2024-03-20  担当医      佐藤医師\n",
            "20   206    小林翔  2024-03-22  担当医      田中医師\n",
            "21   207    小林翔  2024-03-25  担当医      鈴木医師\n",
            "22   208   松本陽子  2024-03-28  担当医      高橋医師\n",
            "23   209    斎藤誠  2024-04-02  担当医      山田医師\n",
            "24   210    高木彩  2024-04-05  担当医      佐藤医師\n",
            "25   211   三浦健一  2024-04-08  担当医      田中医師\n",
            "26   212  石井さくら  2024-04-12  担当医      鈴木医師\n",
            "27   213   永井翔太  2024-04-15  担当医      高橋医師\n",
            "28   214   菊池麻美  2024-04-18  担当医      山田医師\n",
            "29   215    杉山徹  2024-04-22  担当医      佐藤医師\n",
            "30   201   佐々木優  2024-03-01   費用    250000\n",
            "31   202    山本花  2024-03-05   費用     50000\n",
            "32   203   藤田健太  2024-03-10   費用    120000\n",
            "33   204   中村美咲  2024-03-15   費用    450000\n",
            "34   205    小林翔  2024-03-20   費用    600000\n",
            "35   206    小林翔  2024-03-22   費用     70000\n",
            "36   207    小林翔  2024-03-25   費用    350000\n",
            "37   208   松本陽子  2024-03-28   費用     90000\n",
            "38   209    斎藤誠  2024-04-02   費用    520000\n",
            "39   210    高木彩  2024-04-05   費用     80000\n",
            "40   211   三浦健一  2024-04-08   費用    300000\n",
            "41   212  石井さくら  2024-04-12   費用    180000\n",
            "42   213   永井翔太  2024-04-15   費用     45000\n",
            "43   214   菊池麻美  2024-04-18   費用    480000\n",
            "44   215    杉山徹  2024-04-22   費用    110000\n"
          ]
        }
      ]
    },
    {
      "cell_type": "code",
      "source": [
        "# 6. get_dummies() →  特定の列を指定しstringデータを numericデータに変更する\n",
        "print(\"\\n 上記データを施術名に対してget_dummies\\n\")\n",
        "df_dummies = pd.get_dummies(df_filtered, columns=['施術名'])\n",
        "print(df_dummies)"
      ],
      "metadata": {
        "colab": {
          "base_uri": "https://localhost:8080/"
        },
        "id": "IaqjqKepBlNF",
        "outputId": "0643f569-5506-47d4-ce51-e36695051f58"
      },
      "execution_count": 8,
      "outputs": [
        {
          "output_type": "stream",
          "name": "stdout",
          "text": [
            "\n",
            " 上記データを施術名に対してget_dummies\n",
            "\n",
            "     患者ID    名前         施術日   担当医        費用  施術名_フェイスリフト  施術名_リフトアップ  \\\n",
            "0     NaN   NaN         NaN   NaN       NaN        False       False   \n",
            "1     NaN   NaN         NaN   NaN       NaN        False       False   \n",
            "2     NaN   NaN         NaN   NaN       NaN        False       False   \n",
            "3   204.0  中村美咲  2024-03-15  山田医師  450000.0        False       False   \n",
            "4   205.0   小林翔  2024-03-20  佐藤医師  600000.0         True       False   \n",
            "5     NaN   NaN         NaN   NaN       NaN        False       False   \n",
            "6   207.0   小林翔  2024-03-25  鈴木医師  350000.0        False        True   \n",
            "7     NaN   NaN         NaN   NaN       NaN        False       False   \n",
            "8   209.0   斎藤誠  2024-04-02  山田医師  520000.0        False       False   \n",
            "9     NaN   NaN         NaN   NaN       NaN        False       False   \n",
            "10  211.0  三浦健一  2024-04-08  田中医師  300000.0        False       False   \n",
            "11    NaN   NaN         NaN   NaN       NaN        False       False   \n",
            "12    NaN   NaN         NaN   NaN       NaN        False       False   \n",
            "13  214.0  菊池麻美  2024-04-18  山田医師  480000.0        False       False   \n",
            "14    NaN   NaN         NaN   NaN       NaN        False       False   \n",
            "\n",
            "    施術名_脂肪吸引  施術名_輪郭矯正  施術名_顎整形  施術名_鼻整形  \n",
            "0      False     False    False    False  \n",
            "1      False     False    False    False  \n",
            "2      False     False    False    False  \n",
            "3      False     False    False     True  \n",
            "4      False     False    False    False  \n",
            "5      False     False    False    False  \n",
            "6      False     False    False    False  \n",
            "7      False     False    False    False  \n",
            "8      False     False     True    False  \n",
            "9      False     False    False    False  \n",
            "10      True     False    False    False  \n",
            "11     False     False    False    False  \n",
            "12     False     False    False    False  \n",
            "13     False      True    False    False  \n",
            "14     False     False    False    False  \n"
          ]
        }
      ]
    }
  ]
}