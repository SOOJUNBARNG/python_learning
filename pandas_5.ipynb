{
  "nbformat": 4,
  "nbformat_minor": 0,
  "metadata": {
    "colab": {
      "provenance": [],
      "authorship_tag": "ABX9TyPhE3x5NhAyLKSHw6GIlUlc",
      "include_colab_link": true
    },
    "kernelspec": {
      "name": "python3",
      "display_name": "Python 3"
    },
    "language_info": {
      "name": "python"
    }
  },
  "cells": [
    {
      "cell_type": "markdown",
      "metadata": {
        "id": "view-in-github",
        "colab_type": "text"
      },
      "source": [
        "<a href=\"https://colab.research.google.com/github/SOOJUNBARNG/python_learning/blob/main/pandas_5.ipynb\" target=\"_parent\"><img src=\"https://colab.research.google.com/assets/colab-badge.svg\" alt=\"Open In Colab\"/></a>"
      ]
    },
    {
      "cell_type": "code",
      "execution_count": null,
      "metadata": {
        "colab": {
          "base_uri": "https://localhost:8080/"
        },
        "id": "T2PxvyNiys_a",
        "outputId": "cb40d219-508b-4421-8b81-baa4a6020cf2"
      },
      "outputs": [
        {
          "output_type": "stream",
          "name": "stdout",
          "text": [
            "   患者ID    名前      施術名         施術日   担当医        費用\n",
            "0   201  佐々木優  二重まぶた手術  2024/03/01  田中医師  250000.0\n",
            "1   202   山本花      NaN  2024/03/15  鈴木医師   50000.0\n",
            "2   203   NaN   レーザー美白  2024/03/10  高橋医師  120000.0\n",
            "3   204  田中太郎       美白  2024/03/19  野村医師       NaN\n"
          ]
        }
      ],
      "source": [
        "import requests\n",
        "\n",
        "import pandas as pd\n",
        "from io import StringIO\n",
        "\n",
        "# # Google Drive のファイル ID\n",
        "# file_id = \"17QN0mIXA9DP63KC5wL0h7koYKHSdUo9j\"\n",
        "\n",
        "# # ダウンロード用のURL\n",
        "# url = f\"https://drive.google.com/uc?export=download&id={file_id}\"\n",
        "\n",
        "# # Google Drive からデータを取得\n",
        "# response = requests.get(url)\n",
        "# response.raise_for_status()  # エラーチェック\n",
        "\n",
        "# # CSVデータを文字列として扱う\n",
        "# csv_data = StringIO(response.text)\n",
        "\n",
        "\n",
        "# Google SheetsのスプレッドシートID\n",
        "sheet_id = \"1DAJMoLHV20hCTjKVB0lrja-coMPwzRB5eKXjGUCFfls\"\n",
        "sheet_name = \"Sheet1\"  # シート名を指定\n",
        "\n",
        "# Google Sheetsから直接CSVとして取得\n",
        "csv_url = f\"https://docs.google.com/spreadsheets/d/{sheet_id}/gviz/tq?tqx=out:csv&sheet={sheet_name}\"\n",
        "\n",
        "# Pandasで読み込む\n",
        "df = pd.read_csv(csv_url)\n",
        "\n",
        "print(df)"
      ]
    },
    {
      "cell_type": "code",
      "source": [
        "# 1. fillna() → 空のセルに特定の値で埋める\n",
        "df_filled = df.fillna(0)\n",
        "print(df_filled)"
      ],
      "metadata": {
        "colab": {
          "base_uri": "https://localhost:8080/"
        },
        "id": "HUCMAfD0zi3X",
        "outputId": "d5f2c15e-52f4-4403-bc62-3c699bcf7738"
      },
      "execution_count": null,
      "outputs": [
        {
          "output_type": "stream",
          "name": "stdout",
          "text": [
            "        名前      施術名         施術日   担当医      費用\n",
            "患者ID                                         \n",
            "201   佐々木優  二重まぶた手術  2024/03/01  田中医師  250000\n",
            "202    山本花  ボトックス注射  2024/03/15  鈴木医師   50000\n",
            "203   藤田健太   レーザー美白  2024/03/10  高橋医師  120000\n"
          ]
        }
      ]
    },
    {
      "cell_type": "code",
      "source": [
        "# 2. dropna() → 空のセルがある行を削除\n",
        "df_dropped = df.dropna()\n",
        "print(df_dropped)"
      ],
      "metadata": {
        "colab": {
          "base_uri": "https://localhost:8080/"
        },
        "id": "NAIb7Cxmzm-q",
        "outputId": "cf75f81b-7f86-4b99-eeb0-eaa19d7e969d"
      },
      "execution_count": null,
      "outputs": [
        {
          "output_type": "stream",
          "name": "stdout",
          "text": [
            "Index(['患者ID', '名前', '施術名', '施術日', '担当医', '費用'], dtype='object')\n"
          ]
        }
      ]
    },
    {
      "cell_type": "code",
      "source": [
        "# 3. replace() → df内の特定の値を入れ替える\n",
        "df_replaced = df.replace(np.nan, \"不明\")\n",
        "print(df_replaced)"
      ],
      "metadata": {
        "id": "8if0cmpb-gO9"
      },
      "execution_count": null,
      "outputs": []
    },
    {
      "cell_type": "code",
      "source": [
        "# 4. mask() → df内ので条件が一致するセルに特定の値を入れる\n",
        "print(\"\\n 以下は費用が空の所に平均値を代入している\")\n",
        "df_masked = df.copy()\n",
        "mean_price = df_masked[\"費用\"].mean()  # 平均費用計算\n",
        "df_masked[\"費用\"] = df_masked[\"費用\"].mask(df_masked[\"費用\"].isnull(), mean_price)\n",
        "print(df_masked)"
      ],
      "metadata": {
        "id": "IkdUzhMc-gMj"
      },
      "execution_count": null,
      "outputs": []
    },
    {
      "cell_type": "code",
      "source": [
        "# 5. drop() → dfで特定の列や行を削除\n",
        "df_dropped_col = df.drop(columns=[\"費用\"])\n",
        "print(df_dropped_col)"
      ],
      "metadata": {
        "id": "pf75c-e8-gKB"
      },
      "execution_count": null,
      "outputs": []
    }
  ]
}