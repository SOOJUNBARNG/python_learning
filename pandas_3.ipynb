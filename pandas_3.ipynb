{
  "nbformat": 4,
  "nbformat_minor": 0,
  "metadata": {
    "colab": {
      "provenance": [],
      "authorship_tag": "ABX9TyMcXj8kiZnbWCtHIjE/SIoe",
      "include_colab_link": true
    },
    "kernelspec": {
      "name": "python3",
      "display_name": "Python 3"
    },
    "language_info": {
      "name": "python"
    }
  },
  "cells": [
    {
      "cell_type": "markdown",
      "metadata": {
        "id": "view-in-github",
        "colab_type": "text"
      },
      "source": [
        "<a href=\"https://colab.research.google.com/github/SOOJUNBARNG/python_learning/blob/main/pandas_3.ipynb\" target=\"_parent\"><img src=\"https://colab.research.google.com/assets/colab-badge.svg\" alt=\"Open In Colab\"/></a>"
      ]
    },
    {
      "cell_type": "code",
      "execution_count": 1,
      "metadata": {
        "colab": {
          "base_uri": "https://localhost:8080/"
        },
        "id": "T2PxvyNiys_a",
        "outputId": "1df27c1d-d10e-4552-8a84-be8b52c53e52"
      },
      "outputs": [
        {
          "output_type": "stream",
          "name": "stdout",
          "text": [
            "   患者ID    名前      施術名         施術日   担当医      費用\n",
            "0   201  佐々木優  二重まぶた手術  2024/03/01  田中医師  250000\n",
            "1   202   山本花  ボトックス注射  2024/03/15  鈴木医師   50000\n",
            "2   203  藤田健太   レーザー美白  2024/03/10  高橋医師  120000\n"
          ]
        }
      ],
      "source": [
        "import requests\n",
        "\n",
        "import pandas as pd\n",
        "from io import StringIO\n",
        "\n",
        "# # Google Drive のファイル ID\n",
        "# file_id = \"17QN0mIXA9DP63KC5wL0h7koYKHSdUo9j\"\n",
        "\n",
        "# # ダウンロード用のURL\n",
        "# url = f\"https://drive.google.com/uc?export=download&id={file_id}\"\n",
        "\n",
        "# # Google Drive からデータを取得\n",
        "# response = requests.get(url)\n",
        "# response.raise_for_status()  # エラーチェック\n",
        "\n",
        "# # CSVデータを文字列として扱う\n",
        "# csv_data = StringIO(response.text)\n",
        "\n",
        "\n",
        "# Google SheetsのスプレッドシートID\n",
        "sheet_id = \"1B6IP-fwIe0-cf72NCyzggUEBOphEutC5RctxEej5EO8\"\n",
        "sheet_name = \"Sheet1\"  # シート名を指定\n",
        "\n",
        "# Google Sheetsから直接CSVとして取得\n",
        "csv_url = f\"https://docs.google.com/spreadsheets/d/{sheet_id}/gviz/tq?tqx=out:csv&sheet={sheet_name}\"\n",
        "\n",
        "# Pandasで読み込む\n",
        "df = pd.read_csv(csv_url)\n",
        "\n",
        "print(df)"
      ]
    },
    {
      "cell_type": "code",
      "source": [
        "# 1. set_index → 特定の列をdfのindexとして使う\n",
        "print(df.set_index(\"患者ID\"))"
      ],
      "metadata": {
        "colab": {
          "base_uri": "https://localhost:8080/"
        },
        "id": "HUCMAfD0zi3X",
        "outputId": "d5f2c15e-52f4-4403-bc62-3c699bcf7738"
      },
      "execution_count": 2,
      "outputs": [
        {
          "output_type": "stream",
          "name": "stdout",
          "text": [
            "        名前      施術名         施術日   担当医      費用\n",
            "患者ID                                         \n",
            "201   佐々木優  二重まぶた手術  2024/03/01  田中医師  250000\n",
            "202    山本花  ボトックス注射  2024/03/15  鈴木医師   50000\n",
            "203   藤田健太   レーザー美白  2024/03/10  高橋医師  120000\n"
          ]
        }
      ]
    },
    {
      "cell_type": "code",
      "source": [
        "# 2. rename → 特定の列の名前を変更する\n",
        "# 名前をnameに変更\n",
        "print(df.rename(columns={'名前': 'Name'}))"
      ],
      "metadata": {
        "colab": {
          "base_uri": "https://localhost:8080/"
        },
        "id": "NAIb7Cxmzm-q",
        "outputId": "cf75f81b-7f86-4b99-eeb0-eaa19d7e969d"
      },
      "execution_count": null,
      "outputs": [
        {
          "output_type": "stream",
          "name": "stdout",
          "text": [
            "Index(['患者ID', '名前', '施術名', '施術日', '担当医', '費用'], dtype='object')\n"
          ]
        }
      ]
    },
    {
      "cell_type": "code",
      "source": [
        "# 3. sort_values→ 特定の列を基準に昇順で並べ帰る\n",
        "# 施術日を並べ替える\n",
        "print(df.sort_values(by='施術日'))"
      ],
      "metadata": {
        "colab": {
          "base_uri": "https://localhost:8080/"
        },
        "id": "oM0Crtjn3uHO",
        "outputId": "2ae7eaba-92cb-4752-abfb-c502d425a4f6"
      },
      "execution_count": 3,
      "outputs": [
        {
          "output_type": "stream",
          "name": "stdout",
          "text": [
            "   患者ID    名前      施術名         施術日   担当医      費用\n",
            "0   201  佐々木優  二重まぶた手術  2024/03/01  田中医師  250000\n",
            "2   203  藤田健太   レーザー美白  2024/03/10  高橋医師  120000\n",
            "1   202   山本花  ボトックス注射  2024/03/15  鈴木医師   50000\n"
          ]
        }
      ]
    },
    {
      "cell_type": "code",
      "source": [
        "# 4. to_datetime→ 日付の文字列を日付タイプに変更\n",
        "print(df['施術日'])\n",
        "print(\"\\n------タイプ変更後-----\\n\")\n",
        "print(pd.to_datetime(df['施術日']))"
      ],
      "metadata": {
        "colab": {
          "base_uri": "https://localhost:8080/"
        },
        "id": "Zfa515EA309x",
        "outputId": "285b1160-93f2-4c03-9939-121c4abdaeb8"
      },
      "execution_count": null,
      "outputs": [
        {
          "output_type": "stream",
          "name": "stdout",
          "text": [
            "患者ID           202\n",
            "名前             山本花\n",
            "施術名        ボトックス注射\n",
            "施術日     2024-03-05\n",
            "担当医           鈴木医師\n",
            "費用           50000\n",
            "Name: 1, dtype: object\n"
          ]
        }
      ]
    },
    {
      "cell_type": "code",
      "source": [
        "# 5. sort_index→ indexを基準に整列\n",
        "print(df.sort_index())"
      ],
      "metadata": {
        "colab": {
          "base_uri": "https://localhost:8080/"
        },
        "id": "h4nbXGUH30e_",
        "outputId": "e38f65d3-8ca8-4e3c-92a6-7ed94b9253ee"
      },
      "execution_count": null,
      "outputs": [
        {
          "output_type": "stream",
          "name": "stdout",
          "text": [
            "   患者ID   名前      施術名         施術日   担当医     費用\n",
            "1   202  山本花  ボトックス注射  2024-03-05  鈴木医師  50000\n"
          ]
        }
      ]
    },
    {
      "cell_type": "code",
      "source": [
        "# 6. apply→ 行または列に関数を適用\n",
        "# 適用する関数\n",
        "def minus_100(price):\n",
        "    return price - 100\n",
        "\n",
        "print(\"apply前の費用\\n\")\n",
        "print(df[\"費用\"])\n",
        "print(\"\\nminus_100関数をapplyした後の費用\\n\")\n",
        "print(df[\"費用\"].apply(minus_100))"
      ],
      "metadata": {
        "colab": {
          "base_uri": "https://localhost:8080/"
        },
        "id": "dc_VXVLD30Lp",
        "outputId": "287bdd3e-d29b-4d2d-aa73-23c5f0165352"
      },
      "execution_count": 5,
      "outputs": [
        {
          "output_type": "stream",
          "name": "stdout",
          "text": [
            "apply前の費用\n",
            "\n",
            "0    250000\n",
            "1     50000\n",
            "2    120000\n",
            "Name: 費用, dtype: int64\n",
            "\n",
            "minus_100関数をapplyした後の費用\n",
            "\n",
            "0    249900\n",
            "1     49900\n",
            "2    119900\n",
            "Name: 費用, dtype: int64\n"
          ]
        }
      ]
    },
    {
      "cell_type": "code",
      "source": [
        "# 7. cut→ 数字のデータの列の区間を分けて各行がどの区間に入るかを抽出\n",
        "# 0~ 70000を低価格 70001~150000を中価格 150001~300000を高価格で分けるようにする\n",
        "bins = [0, 70000, 150000, 300000]\n",
        "labels = [\"低価格\", \"中価格\", \"高価格\"]\n",
        "print(pd.cut(df[\"費用\"], bins=bins, labels=labels))"
      ],
      "metadata": {
        "colab": {
          "base_uri": "https://localhost:8080/"
        },
        "id": "Wmr53-bT3z7b",
        "outputId": "9555e81b-6cee-456f-da7f-fc7c65bf7860"
      },
      "execution_count": 4,
      "outputs": [
        {
          "output_type": "stream",
          "name": "stdout",
          "text": [
            "0    高価格\n",
            "1    低価格\n",
            "2    中価格\n",
            "Name: 費用, dtype: category\n",
            "Categories (3, object): ['低価格' < '中価格' < '高価格']\n"
          ]
        }
      ]
    }
  ]
}