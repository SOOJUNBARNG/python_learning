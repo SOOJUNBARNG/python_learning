{
  "nbformat": 4,
  "nbformat_minor": 0,
  "metadata": {
    "colab": {
      "provenance": [],
      "authorship_tag": "ABX9TyOR5oLtUCSnre7QYaxXjq6r",
      "include_colab_link": true
    },
    "kernelspec": {
      "name": "python3",
      "display_name": "Python 3"
    },
    "language_info": {
      "name": "python"
    }
  },
  "cells": [
    {
      "cell_type": "markdown",
      "metadata": {
        "id": "view-in-github",
        "colab_type": "text"
      },
      "source": [
        "<a href=\"https://colab.research.google.com/github/SOOJUNBARNG/python_learning/blob/main/pandas_6.ipynb\" target=\"_parent\"><img src=\"https://colab.research.google.com/assets/colab-badge.svg\" alt=\"Open In Colab\"/></a>"
      ]
    },
    {
      "cell_type": "code",
      "execution_count": 1,
      "metadata": {
        "colab": {
          "base_uri": "https://localhost:8080/"
        },
        "id": "T2PxvyNiys_a",
        "outputId": "8291d253-9a23-4332-af81-e287a96e1765"
      },
      "outputs": [
        {
          "output_type": "stream",
          "name": "stdout",
          "text": [
            "   患者ID    施術名      費用          日付\n",
            "0   101  ボトックス   50000  2024-03-01\n",
            "1   102   二重整形  250000  2024-03-02\n",
            "2   103  ボトックス   60000  2024-03-03\n",
            "3   104   脂肪吸引  300000  2024-03-04\n",
            "4   105  ボトックス   55000  2024-03-05\n",
            "5   106   二重整形  260000  2024-03-06\n",
            "6   107   脂肪吸引  320000  2024-03-07\n",
            "7   108  ボトックス   52000  2024-03-08\n",
            "8   109   二重整形  255000  2024-03-09\n",
            "9   110   脂肪吸引  310000  2024-03-10\n"
          ]
        }
      ],
      "source": [
        "import requests\n",
        "\n",
        "import pandas as pd\n",
        "from io import StringIO\n",
        "\n",
        "# # Google Drive のファイル ID\n",
        "# file_id = \"17QN0mIXA9DP63KC5wL0h7koYKHSdUo9j\"\n",
        "\n",
        "# # ダウンロード用のURL\n",
        "# url = f\"https://drive.google.com/uc?export=download&id={file_id}\"\n",
        "\n",
        "# # Google Drive からデータを取得\n",
        "# response = requests.get(url)\n",
        "# response.raise_for_status()  # エラーチェック\n",
        "\n",
        "# # CSVデータを文字列として扱う\n",
        "# csv_data = StringIO(response.text)\n",
        "\n",
        "\n",
        "# Google SheetsのスプレッドシートID\n",
        "sheet_id = \"1Oq1OmHmv0ol7KcMgBlhORo9gEblIbva9Zj1u_kMsL1s\"\n",
        "sheet_name = \"Sheet1\"  # シート名を指定\n",
        "\n",
        "# Google Sheetsから直接CSVとして取得\n",
        "csv_url = f\"https://docs.google.com/spreadsheets/d/{sheet_id}/gviz/tq?tqx=out:csv&sheet={sheet_name}\"\n",
        "\n",
        "# Pandasで読み込む\n",
        "df = pd.read_csv(csv_url)\n",
        "\n",
        "print(df)"
      ]
    },
    {
      "cell_type": "code",
      "source": [
        "# 1. value_counts() → 列を指定し、同じ値が何個ずつ出ているかをカウント\n",
        "print(df[\"施術名\"].value_counts())"
      ],
      "metadata": {
        "colab": {
          "base_uri": "https://localhost:8080/"
        },
        "id": "HUCMAfD0zi3X",
        "outputId": "d5f2c15e-52f4-4403-bc62-3c699bcf7738"
      },
      "execution_count": null,
      "outputs": [
        {
          "output_type": "stream",
          "name": "stdout",
          "text": [
            "        名前      施術名         施術日   担当医      費用\n",
            "患者ID                                         \n",
            "201   佐々木優  二重まぶた手術  2024/03/01  田中医師  250000\n",
            "202    山本花  ボトックス注射  2024/03/15  鈴木医師   50000\n",
            "203   藤田健太   レーザー美白  2024/03/10  高橋医師  120000\n"
          ]
        }
      ]
    },
    {
      "cell_type": "code",
      "source": [
        "# 2. groupby() → 列で同じ値をグループ化させる\n",
        "print(\"以下は施術名でグループ化させて、各グループの費用の平均を出している\")\n",
        "df_grouped = df.groupby(\"施術名\")[\"費用\"].mean()\n",
        "print(df_grouped)"
      ],
      "metadata": {
        "colab": {
          "base_uri": "https://localhost:8080/"
        },
        "id": "NAIb7Cxmzm-q",
        "outputId": "cf75f81b-7f86-4b99-eeb0-eaa19d7e969d"
      },
      "execution_count": null,
      "outputs": [
        {
          "output_type": "stream",
          "name": "stdout",
          "text": [
            "Index(['患者ID', '名前', '施術名', '施術日', '担当医', '費用'], dtype='object')\n"
          ]
        }
      ]
    },
    {
      "cell_type": "code",
      "source": [
        "# 3. groupby() → 数字が入る列で一個前の行との差分を計算\n",
        "print(df[\"費用\"].diff())"
      ],
      "metadata": {
        "id": "8if0cmpb-gO9"
      },
      "execution_count": null,
      "outputs": []
    },
    {
      "cell_type": "code",
      "source": [
        "# 4. rolling() → 移動平均や移動合計を計算\n",
        "print(\"以下は3日間の移動平均を計算\")\n",
        "print(df[\"費用\"].rolling(window=3).mean())"
      ],
      "metadata": {
        "id": "IkdUzhMc-gMj",
        "colab": {
          "base_uri": "https://localhost:8080/"
        },
        "outputId": "8c40c8c3-aadb-4583-eb52-740e34847404"
      },
      "execution_count": 3,
      "outputs": [
        {
          "output_type": "stream",
          "name": "stdout",
          "text": [
            "以下は3日間の移動平均を計算\n",
            "0              NaN\n",
            "1              NaN\n",
            "2    120000.000000\n",
            "3    203333.333333\n",
            "4    138333.333333\n",
            "5    205000.000000\n",
            "6    211666.666667\n",
            "7    210666.666667\n",
            "8    209000.000000\n",
            "9    205666.666667\n",
            "Name: 費用, dtype: float64\n"
          ]
        }
      ]
    },
    {
      "cell_type": "code",
      "source": [
        "# 5. pct_change() → 一個前の値との変化率を産出\n",
        "print(df[\"費用\"].pct_change())"
      ],
      "metadata": {
        "id": "pf75c-e8-gKB",
        "colab": {
          "base_uri": "https://localhost:8080/"
        },
        "outputId": "6ec689a2-b492-40f0-cd84-839b8681d1de"
      },
      "execution_count": 2,
      "outputs": [
        {
          "output_type": "stream",
          "name": "stdout",
          "text": [
            "0         NaN\n",
            "1    4.000000\n",
            "2   -0.760000\n",
            "3    4.000000\n",
            "4   -0.816667\n",
            "5    3.727273\n",
            "6    0.230769\n",
            "7   -0.837500\n",
            "8    3.903846\n",
            "9    0.215686\n",
            "Name: 費用, dtype: float64\n"
          ]
        }
      ]
    }
  ]
}