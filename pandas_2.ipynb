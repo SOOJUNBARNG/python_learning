{
  "nbformat": 4,
  "nbformat_minor": 0,
  "metadata": {
    "colab": {
      "provenance": [],
      "authorship_tag": "ABX9TyNzYvGcEmlbgsAg4xnn4gmN",
      "include_colab_link": true
    },
    "kernelspec": {
      "name": "python3",
      "display_name": "Python 3"
    },
    "language_info": {
      "name": "python"
    }
  },
  "cells": [
    {
      "cell_type": "markdown",
      "metadata": {
        "id": "view-in-github",
        "colab_type": "text"
      },
      "source": [
        "<a href=\"https://colab.research.google.com/github/SOOJUNBARNG/python_learning/blob/main/pandas_2.ipynb\" target=\"_parent\"><img src=\"https://colab.research.google.com/assets/colab-badge.svg\" alt=\"Open In Colab\"/></a>"
      ]
    },
    {
      "cell_type": "code",
      "execution_count": 3,
      "metadata": {
        "colab": {
          "base_uri": "https://localhost:8080/"
        },
        "id": "T2PxvyNiys_a",
        "outputId": "e59ca695-c915-468c-fd57-1a6619af625f"
      },
      "outputs": [
        {
          "output_type": "stream",
          "name": "stdout",
          "text": [
            "    患者ID     名前       施術名         施術日   担当医      費用\n",
            "0    201   佐々木優   二重まぶた手術  2024-03-01  田中医師  250000\n",
            "1    202    山本花   ボトックス注射  2024-03-05  鈴木医師   50000\n",
            "2    203   藤田健太    レーザー美白  2024-03-10  高橋医師  120000\n",
            "3    204   中村美咲       鼻整形  2024-03-15  山田医師  450000\n",
            "4    205    小林翔   フェイスリフト  2024-03-20  佐藤医師  600000\n",
            "5    206    小林翔  ヒアルロン酸注射  2024-03-22  田中医師   70000\n",
            "6    207    小林翔    リフトアップ  2024-03-25  鈴木医師  350000\n",
            "7    208   松本陽子  シミ取りレーザー  2024-03-28  高橋医師   90000\n",
            "8    209    斎藤誠       顎整形  2024-04-02  山田医師  520000\n",
            "9    210    高木彩  眉毛アートメイク  2024-04-05  佐藤医師   80000\n",
            "10   211   三浦健一      脂肪吸引  2024-04-08  田中医師  300000\n",
            "11   212  石井さくら  目の下のクマ取り  2024-04-12  鈴木医師  180000\n",
            "12   213   永井翔太      美白点滴  2024-04-15  高橋医師   45000\n",
            "13   214   菊池麻美      輪郭矯正  2024-04-18  山田医師  480000\n",
            "14   215    杉山徹  頭皮メソセラピー  2024-04-22  佐藤医師  110000\n"
          ]
        }
      ],
      "source": [
        "import requests\n",
        "\n",
        "import pandas as pd\n",
        "from io import StringIO\n",
        "\n",
        "# # Google Drive のファイル ID\n",
        "# file_id = \"17QN0mIXA9DP63KC5wL0h7koYKHSdUo9j\"\n",
        "\n",
        "# # ダウンロード用のURL\n",
        "# url = f\"https://drive.google.com/uc?export=download&id={file_id}\"\n",
        "\n",
        "# # Google Drive からデータを取得\n",
        "# response = requests.get(url)\n",
        "# response.raise_for_status()  # エラーチェック\n",
        "\n",
        "# # CSVデータを文字列として扱う\n",
        "# csv_data = StringIO(response.text)\n",
        "\n",
        "# Google SheetsのスプレッドシートID\n",
        "sheet_id = \"1-MEbYsbPJ9pRFKUlyOUuERe_HN4SzVqoByOqV0qaBzU\"\n",
        "sheet_name = \"Sheet1\"  # シート名を指定\n",
        "\n",
        "# Google Sheetsから直接CSVとして取得\n",
        "csv_url = f\"https://docs.google.com/spreadsheets/d/{sheet_id}/gviz/tq?tqx=out:csv&sheet={sheet_name}\"\n",
        "\n",
        "# Pandasで読み込む\n",
        "df = pd.read_csv(csv_url)\n",
        "\n",
        "print(df)"
      ]
    },
    {
      "cell_type": "code",
      "source": [
        "# 1. index → dfのindexのデータ\n",
        "print(df.index)"
      ],
      "metadata": {
        "colab": {
          "base_uri": "https://localhost:8080/"
        },
        "id": "HUCMAfD0zi3X",
        "outputId": "6425d460-f993-4821-afee-2ac64bd782e2"
      },
      "execution_count": 6,
      "outputs": [
        {
          "output_type": "stream",
          "name": "stdout",
          "text": [
            "RangeIndex(start=0, stop=15, step=1)\n"
          ]
        }
      ]
    },
    {
      "cell_type": "code",
      "source": [
        "# 2. columns → 各列の名前と列名のデータ他タイプ\n",
        "print(df.columns)"
      ],
      "metadata": {
        "colab": {
          "base_uri": "https://localhost:8080/"
        },
        "id": "NAIb7Cxmzm-q",
        "outputId": "cf75f81b-7f86-4b99-eeb0-eaa19d7e969d"
      },
      "execution_count": 5,
      "outputs": [
        {
          "output_type": "stream",
          "name": "stdout",
          "text": [
            "Index(['患者ID', '名前', '施術名', '施術日', '担当医', '費用'], dtype='object')\n"
          ]
        }
      ]
    },
    {
      "cell_type": "code",
      "source": [
        "# 3. dtypes → 各列のデータタイプ\n",
        "print(df.dtypes)"
      ],
      "metadata": {
        "colab": {
          "base_uri": "https://localhost:8080/"
        },
        "id": "oM0Crtjn3uHO",
        "outputId": "e64a2493-d20a-4f03-a10f-add6b04a207f"
      },
      "execution_count": 4,
      "outputs": [
        {
          "output_type": "stream",
          "name": "stdout",
          "text": [
            "患者ID     int64\n",
            "名前      object\n",
            "施術名     object\n",
            "施術日     object\n",
            "担当医     object\n",
            "費用       int64\n",
            "dtype: object\n"
          ]
        }
      ]
    },
    {
      "cell_type": "code",
      "source": [
        "# 4. loc → 列と行のラベルでデータ操作\n",
        "# 2行目(index = 1)のデータ取得\n",
        "print(df.loc[1])"
      ],
      "metadata": {
        "colab": {
          "base_uri": "https://localhost:8080/"
        },
        "id": "Zfa515EA309x",
        "outputId": "285b1160-93f2-4c03-9939-121c4abdaeb8"
      },
      "execution_count": 11,
      "outputs": [
        {
          "output_type": "stream",
          "name": "stdout",
          "text": [
            "患者ID           202\n",
            "名前             山本花\n",
            "施術名        ボトックス注射\n",
            "施術日     2024-03-05\n",
            "担当医           鈴木医師\n",
            "費用           50000\n",
            "Name: 1, dtype: object\n"
          ]
        }
      ]
    },
    {
      "cell_type": "code",
      "source": [
        "# 5. 患者IDが202のデータ取得\n",
        "print(df.loc[df['患者ID'] == 202])"
      ],
      "metadata": {
        "colab": {
          "base_uri": "https://localhost:8080/"
        },
        "id": "h4nbXGUH30e_",
        "outputId": "e38f65d3-8ca8-4e3c-92a6-7ed94b9253ee"
      },
      "execution_count": 10,
      "outputs": [
        {
          "output_type": "stream",
          "name": "stdout",
          "text": [
            "   患者ID   名前      施術名         施術日   担当医     費用\n",
            "1   202  山本花  ボトックス注射  2024-03-05  鈴木医師  50000\n"
          ]
        }
      ]
    },
    {
      "cell_type": "code",
      "source": [
        "# 6. 患者IDが202のデータで名前だけ取得\n",
        "print(df.loc[df['患者ID'] == 202, '名前'])"
      ],
      "metadata": {
        "colab": {
          "base_uri": "https://localhost:8080/"
        },
        "id": "v8Jp-npa30T6",
        "outputId": "199d9503-f3cb-4916-a960-e7801ef146d2"
      },
      "execution_count": 9,
      "outputs": [
        {
          "output_type": "stream",
          "name": "stdout",
          "text": [
            "1    山本花\n",
            "Name: 名前, dtype: object\n"
          ]
        }
      ]
    },
    {
      "cell_type": "code",
      "source": [
        "# 7. iloc → 列と行の番号で操作\n",
        "# 1行目の2列の値を取得\n",
        "print(df.iloc[0, 1])"
      ],
      "metadata": {
        "colab": {
          "base_uri": "https://localhost:8080/"
        },
        "id": "dc_VXVLD30Lp",
        "outputId": "24dac870-b8e4-4922-e354-5e4e17528d41"
      },
      "execution_count": 8,
      "outputs": [
        {
          "output_type": "stream",
          "name": "stdout",
          "text": [
            "佐々木優\n"
          ]
        }
      ]
    },
    {
      "cell_type": "code",
      "source": [
        "# 1行目から2行目かつ1列目からの3列目の値を取得\n",
        "print(df.iloc[0:2, 0:3])"
      ],
      "metadata": {
        "colab": {
          "base_uri": "https://localhost:8080/"
        },
        "id": "Wmr53-bT3z7b",
        "outputId": "c5fb7dae-d74c-4f0a-d77a-59d0011e4e01"
      },
      "execution_count": 7,
      "outputs": [
        {
          "output_type": "stream",
          "name": "stdout",
          "text": [
            "   患者ID    名前      施術名\n",
            "0   201  佐々木優  二重まぶた手術\n",
            "1   202   山本花  ボトックス注射\n"
          ]
        }
      ]
    },
    {
      "cell_type": "code",
      "source": [
        "# '名前' を出したいときlocを使う場合\n",
        "# locを使う場合\n",
        "print(df.loc[:, '名前'])\n"
      ],
      "metadata": {
        "colab": {
          "base_uri": "https://localhost:8080/"
        },
        "id": "2hM8KnDH4ZbI",
        "outputId": "97da529a-f17f-42cf-ad44-16d5539bd0fa"
      },
      "execution_count": 12,
      "outputs": [
        {
          "output_type": "stream",
          "name": "stdout",
          "text": [
            "0      佐々木優\n",
            "1       山本花\n",
            "2      藤田健太\n",
            "3      中村美咲\n",
            "4       小林翔\n",
            "5       小林翔\n",
            "6       小林翔\n",
            "7      松本陽子\n",
            "8       斎藤誠\n",
            "9       高木彩\n",
            "10     三浦健一\n",
            "11    石井さくら\n",
            "12     永井翔太\n",
            "13     菊池麻美\n",
            "14      杉山徹\n",
            "Name: 名前, dtype: object\n"
          ]
        }
      ]
    },
    {
      "cell_type": "code",
      "source": [
        "# '名前' を出したいときilocを使う場合\n",
        "print(df.iloc[:, 1])"
      ],
      "metadata": {
        "id": "_jUNULGd4avR"
      },
      "execution_count": null,
      "outputs": []
    },
    {
      "cell_type": "code",
      "source": [
        "# 8. query → 条件を指定してデータ抽出 (費用が10万円以上のデータ)\n",
        "# '費用 >= 100000'データ\n",
        "result = df.query('費用 >= 100000')\n",
        "print(result)"
      ],
      "metadata": {
        "id": "1DBLwA724dJL"
      },
      "execution_count": null,
      "outputs": []
    },
    {
      "cell_type": "code",
      "source": [
        "# '患者ID > 202 and 費用 >= 100000''データ (費用が10万円以上かつ患者idが202以上ののデータ)\n",
        "result = df.query('患者ID > 202 and 費用 >= 100000')\n",
        "print(result)"
      ],
      "metadata": {
        "id": "TlBpjyn84mWE"
      },
      "execution_count": null,
      "outputs": []
    },
    {
      "cell_type": "code",
      "source": [
        "# 9. drop_duplicates → 列を指定し、重複するデータを持つ行を行ごと削除\n",
        "df_no_duplicates = df.drop_duplicates()\n",
        "print(df_no_duplicates)"
      ],
      "metadata": {
        "id": "Y0tsrpUa4tRQ"
      },
      "execution_count": null,
      "outputs": []
    },
    {
      "cell_type": "code",
      "source": [
        "# 13. describe → 数字のデータを持つ列の平均や標準偏差など統計データを取得\n",
        "print(df.describe())"
      ],
      "metadata": {
        "id": "JR8EClNY4mKq"
      },
      "execution_count": null,
      "outputs": []
    }
  ]
}