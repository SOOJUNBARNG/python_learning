{
  "nbformat": 4,
  "nbformat_minor": 0,
  "metadata": {
    "colab": {
      "provenance": [],
      "authorship_tag": "ABX9TyNRKoXO/nve4mr/Zu19nP4s",
      "include_colab_link": true
    },
    "kernelspec": {
      "name": "python3",
      "display_name": "Python 3"
    },
    "language_info": {
      "name": "python"
    }
  },
  "cells": [
    {
      "cell_type": "markdown",
      "metadata": {
        "id": "view-in-github",
        "colab_type": "text"
      },
      "source": [
        "<a href=\"https://colab.research.google.com/github/SOOJUNBARNG/python_learning/blob/main/pandas_2.ipynb\" target=\"_parent\"><img src=\"https://colab.research.google.com/assets/colab-badge.svg\" alt=\"Open In Colab\"/></a>"
      ]
    },
    {
      "cell_type": "code",
      "execution_count": 3,
      "metadata": {
        "colab": {
          "base_uri": "https://localhost:8080/"
        },
        "id": "T2PxvyNiys_a",
        "outputId": "e59ca695-c915-468c-fd57-1a6619af625f"
      },
      "outputs": [
        {
          "output_type": "stream",
          "name": "stdout",
          "text": [
            "    患者ID     名前       施術名         施術日   担当医      費用\n",
            "0    201   佐々木優   二重まぶた手術  2024-03-01  田中医師  250000\n",
            "1    202    山本花   ボトックス注射  2024-03-05  鈴木医師   50000\n",
            "2    203   藤田健太    レーザー美白  2024-03-10  高橋医師  120000\n",
            "3    204   中村美咲       鼻整形  2024-03-15  山田医師  450000\n",
            "4    205    小林翔   フェイスリフト  2024-03-20  佐藤医師  600000\n",
            "5    206    小林翔  ヒアルロン酸注射  2024-03-22  田中医師   70000\n",
            "6    207    小林翔    リフトアップ  2024-03-25  鈴木医師  350000\n",
            "7    208   松本陽子  シミ取りレーザー  2024-03-28  高橋医師   90000\n",
            "8    209    斎藤誠       顎整形  2024-04-02  山田医師  520000\n",
            "9    210    高木彩  眉毛アートメイク  2024-04-05  佐藤医師   80000\n",
            "10   211   三浦健一      脂肪吸引  2024-04-08  田中医師  300000\n",
            "11   212  石井さくら  目の下のクマ取り  2024-04-12  鈴木医師  180000\n",
            "12   213   永井翔太      美白点滴  2024-04-15  高橋医師   45000\n",
            "13   214   菊池麻美      輪郭矯正  2024-04-18  山田医師  480000\n",
            "14   215    杉山徹  頭皮メソセラピー  2024-04-22  佐藤医師  110000\n"
          ]
        }
      ],
      "source": [
        "import requests\n",
        "\n",
        "import pandas as pd\n",
        "from io import StringIO\n",
        "\n",
        "# # Google Drive のファイル ID\n",
        "# file_id = \"17QN0mIXA9DP63KC5wL0h7koYKHSdUo9j\"\n",
        "\n",
        "# # ダウンロード用のURL\n",
        "# url = f\"https://drive.google.com/uc?export=download&id={file_id}\"\n",
        "\n",
        "# # Google Drive からデータを取得\n",
        "# response = requests.get(url)\n",
        "# response.raise_for_status()  # エラーチェック\n",
        "\n",
        "# # CSVデータを文字列として扱う\n",
        "# csv_data = StringIO(response.text)\n",
        "\n",
        "# Google SheetsのスプレッドシートID\n",
        "sheet_id = \"1-MEbYsbPJ9pRFKUlyOUuERe_HN4SzVqoByOqV0qaBzU\"\n",
        "sheet_name = \"Sheet1\"  # シート名を指定\n",
        "\n",
        "# Google Sheetsから直接CSVとして取得\n",
        "csv_url = f\"https://docs.google.com/spreadsheets/d/{sheet_id}/gviz/tq?tqx=out:csv&sheet={sheet_name}\"\n",
        "\n",
        "# Pandasで読み込む\n",
        "df = pd.read_csv(csv_url)\n",
        "\n",
        "print(df)"
      ]
    },
    {
      "cell_type": "code",
      "source": [
        "head_data = df.head()\n",
        "# 1. dfの上位5件を表示\n",
        "print(head_data)"
      ],
      "metadata": {
        "colab": {
          "base_uri": "https://localhost:8080/"
        },
        "id": "HUCMAfD0zi3X",
        "outputId": "ac5aff2e-9757-4974-e21e-3e265a68d3c1"
      },
      "execution_count": null,
      "outputs": [
        {
          "output_type": "stream",
          "name": "stdout",
          "text": [
            "   患者ID    名前      施術名         施術日   担当医      費用\n",
            "0   201  佐々木優  二重まぶた手術  2024-03-01  田中医師  250000\n",
            "1   202   山本花  ボトックス注射  2024-03-05  鈴木医師   50000\n",
            "2   203  藤田健太   レーザー美白  2024-03-10  高橋医師  120000\n",
            "3   204  中村美咲      鼻整形  2024-03-15  山田医師  450000\n",
            "4   205   小林翔  フェイスリフト  2024-03-20  佐藤医師  600000\n"
          ]
        }
      ]
    },
    {
      "cell_type": "code",
      "source": [
        "tail_data = df.tail()\n",
        "# 2. dfの下位5件を表示\n",
        "print(tail_data)"
      ],
      "metadata": {
        "colab": {
          "base_uri": "https://localhost:8080/"
        },
        "id": "NAIb7Cxmzm-q",
        "outputId": "26b4bb28-5709-4cda-cd8e-f3f40950179a"
      },
      "execution_count": null,
      "outputs": [
        {
          "output_type": "stream",
          "name": "stdout",
          "text": [
            "    患者ID     名前       施術名         施術日   担当医      費用\n",
            "10   211   三浦健一      脂肪吸引  2024-04-08  田中医師  300000\n",
            "11   212  石井さくら  目の下のクマ取り  2024-04-12  鈴木医師  180000\n",
            "12   213   永井翔太      美白点滴  2024-04-15  高橋医師   45000\n",
            "13   214   菊池麻美      輪郭矯正  2024-04-18  山田医師  480000\n",
            "14   215    杉山徹  頭皮メソセラピー  2024-04-22  佐藤医師  110000\n"
          ]
        }
      ]
    }
  ]
}